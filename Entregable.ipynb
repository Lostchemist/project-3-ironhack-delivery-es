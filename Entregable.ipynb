{
 "cells": [
  {
   "cell_type": "markdown",
   "id": "0b3495d1",
   "metadata": {},
   "source": [
    "# Ejercicio 1"
   ]
  },
  {
   "cell_type": "markdown",
   "id": "e5a43e1d",
   "metadata": {},
   "source": [
    "## TOP 3\n",
    "Tasa de incidencias\n",
    "\n",
    "Proporción de Mensajes por Etapa de Pedido\n",
    "\n",
    "Tasa de Reorden\n",
    "\n",
    "## Others\n",
    "Tiempo de entrega promedio\n",
    "\n",
    "Tasa de entregas a tiempo\n",
    "\n",
    "Nivel de satisfacción del cliente\n",
    "\n",
    "Tasa de Mensajes Iniciados por Clientes\n",
    "\n",
    "Tasa de Incidencias (Incident Rate)\n",
    "\n",
    "Tiempo de Respuesta del Mensajero\n",
    "\n",
    "Tasa de devoluciones\n",
    "\n",
    "Frecuencia de Mensajes por Pedido\n",
    "\n",
    "Tasa de Reorden (de que el cliente vuelve a pedir)\n",
    "\n",
    "Proporción de Mensajes por Etapa de Pedido\n",
    "\n",
    "Tiempo promedio de respuesta del servicio de atención al cliente\n"
   ]
  },
  {
   "cell_type": "markdown",
   "id": "daf5f03a",
   "metadata": {},
   "source": [
    "# Ejercicio 3"
   ]
  },
  {
   "cell_type": "markdown",
   "id": "96d31bcf",
   "metadata": {},
   "source": [
    "### Diseño del Experimento para Evaluar el Impacto del Aumento de la Tarifa de Entrega\n",
    "#### 1. Tipo de Prueba\n",
    "Para evaluar el impacto del aumento de la tarifa de entrega, se recomienda llevar a cabo un **experimento controlado aleatorio (RCT)**. Este enfoque implica dividir aleatoriamente a los usuarios en dos grupos: un grupo de control que sigue con la tarifa actual de €1.9 y un grupo de tratamiento que tiene la nueva tarifa de €2.1. Esto permite comparar los efectos del cambio de tarifa de manera robusta, minimizando el sesgo y asegurando la validez de los resultados.\n",
    "#### 2. Segmentación de Usuarios\n",
    "**Probar en todos los usuarios activos**:\n",
    "- **Razonamiento**:\n",
    "  - Evaluar el impacto en una muestra representativa de la base de usuarios actual permite obtener conclusiones más generales y aplicables.\n",
    "  - Los nuevos usuarios podrían comportarse de manera diferente a los usuarios existentes debido a factores como la falta de lealtad o diferentes expectativas, lo que podría sesgar los resultados.\n",
    "  - Incluir a todos los usuarios activos proporciona una visión más completa del impacto potencial en el negocio.\n",
    "#### 3. Suposiciones y Validación\n",
    "**Suposiciones**:\n",
    "- La elasticidad de la demanda con respecto al precio es constante en el corto plazo.\n",
    "- No hay factores externos significativos (como cambios económicos o competidores) que puedan afectar la demanda durante el periodo del experimento.\n",
    "- La muestra es representativa de la población total de usuarios.\n",
    "**Validación**:\n",
    "- Realizar análisis preliminares de datos históricos para verificar la estabilidad de la demanda y otros KPIs antes del experimento.\n",
    "- Asegurarse de que la aleatorización produce grupos comparables en términos de características demográficas y comportamientos de compra previos.\n",
    "#### 4. Duración del Experimento\n",
    "**Determinación de la Duración**:\n",
    "- **Tamaño de la muestra**: Calcular el tamaño de la muestra necesario para detectar un efecto significativo con un nivel de confianza del 95% y un poder estadístico del 80%.\n",
    "- **Periodo de observación**: Considerar un periodo de tiempo suficiente para capturar la variabilidad en el comportamiento de compra, como un ciclo de compras mensual, que podría ser de 4 a 8 semanas.\n",
    "#### 5. KPIs/Métricas para Evaluar el Éxito\n",
    "- **Número de Pedidos**: Comparar el número de pedidos realizados en ambos grupos.\n",
    "- **Ingresos Totales**: Evaluar el impacto en los ingresos totales por pedidos.\n",
    "- **Frecuencia de Compra**: Analizar si la frecuencia de compra de los usuarios cambia con el aumento de la tarifa.\n",
    "- **Tasa de Retención de Usuarios**: Medir la tasa de retención de usuarios en ambos grupos.\n",
    "- **Valor de Vida del Cliente (CLV)**: Evaluar cualquier cambio en el CLV.\n",
    "- **Satisfacción del Cliente**: Utilizar encuestas para medir cambios en la satisfacción del cliente.\n",
    "#### 6. Pasos para Analizar los Resultados\n",
    "1. **Descriptivos Iniciales**:\n",
    "   - Comparar los datos descriptivos básicos (número de pedidos, ingresos, etc.) entre los grupos de control y tratamiento.\n",
    "2. **Pruebas de Significancia**:\n",
    "   - Utilizar pruebas t para comparar medias y pruebas de chi-cuadrado para proporciones.\n",
    "   - Realizar análisis de regresión para controlar por posibles covariables.\n",
    "3. **Análisis de Subgrupos**:\n",
    "   - Evaluar si hay diferencias en los efectos del aumento de tarifa en subgrupos específicos (por ejemplo, por demografía o comportamiento de compra previo).\n",
    "4. **Análisis de Sensibilidad**:\n",
    "   - Realizar análisis de sensibilidad para comprobar la robustez de los resultados ante diferentes suposiciones y parámetros.\n",
    "#### 7. Recomendaciones según los Resultados\n",
    "- **Si el aumento de tarifa resulta en un incremento significativo de ingresos sin una caída notable en la cantidad de pedidos**:\n",
    "  - Implementar el aumento de tarifa de manera permanente.\n",
    "  - Considerar aplicar ajustes de tarifa en otras ciudades siguiendo el mismo proceso experimental.\n",
    "- **Si el aumento de tarifa reduce significativamente la cantidad de pedidos o ingresos totales**:\n",
    "  - Mantener la tarifa actual y explorar otras formas de aumentar ingresos, como servicios adicionales o tarifas diferenciadas según la hora del día.\n",
    "- **Si hay un impacto negativo en la satisfacción del cliente**:\n",
    "  - Evaluar la posibilidad de introducir el aumento de tarifa gradualmente o con promociones compensatorias.\n",
    "Implementar un experimento controlado aleatorio, monitorear y analizar adecuadamente los resultados, y basar las decisiones en datos empíricos proporcionará una base sólida para gestionar los cambios en la tarifa de entrega de manera efectiva y eficiente."
   ]
  }
 ],
 "metadata": {
  "kernelspec": {
   "display_name": "Python 3 (ipykernel)",
   "language": "python",
   "name": "python3"
  },
  "language_info": {
   "codemirror_mode": {
    "name": "ipython",
    "version": 3
   },
   "file_extension": ".py",
   "mimetype": "text/x-python",
   "name": "python",
   "nbconvert_exporter": "python",
   "pygments_lexer": "ipython3",
   "version": "3.10.12"
  }
 },
 "nbformat": 4,
 "nbformat_minor": 5
}
