{
 "cells": [
  {
   "cell_type": "markdown",
   "metadata": {},
   "source": [
    "Explica en detalle cómo abordarías esta tarea, enfocándote en lo siguiente:\n",
    "\n",
    "**1. ¿Qué tipo de prueba requeriría esto?**"
   ]
  },
  {
   "cell_type": "markdown",
   "metadata": {},
   "source": [
    "Nosotros propondríamos una prueba de AB, mediante un software estilo google optimize, que permite visualizar en una misma semana, dos versiones diferentes en vivo la venta de un producto en una página web."
   ]
  },
  {
   "cell_type": "markdown",
   "metadata": {},
   "source": [
    "**2. ¿Probarías esto solo en nuevos usuarios o en todos los usuarios activos? ¿Por qué?**"
   ]
  },
  {
   "cell_type": "markdown",
   "metadata": {},
   "source": [
    "  - Evaluar el impacto en una muestra representativa de la base de usuarios actual permite obtener conclusiones más generales y aplicables.\n",
    "  - Los nuevos usuarios podrían comportarse de manera diferente a los usuarios existentes debido a factores como la falta de lealtad o diferentes expectativas, lo que podría sesgar los resultados.\n",
    "  - Incluir a todos los usuarios activos proporciona una visión más completa del impacto potencial en el negocio."
   ]
  },
  {
   "cell_type": "markdown",
   "metadata": {},
   "source": [
    "**3. ¿Qué suposiciones harías y cómo probarías si estas suposiciones son correctas?**"
   ]
  },
  {
   "cell_type": "markdown",
   "metadata": {},
   "source": [
    "**Suposiciones**:\n",
    "- No hay factores externos significativos (como cambios económicos o competidores) que puedan afectar la demanda durante el periodo del experimento.\n",
    "- La muestra es representativa de la población total de usuarios.  \n",
    "  \n",
    "**Validación**:\n",
    "- Realizar análisis preliminares de datos históricos para verificar la estabilidad de la demanda y otros KPIs antes del experimento.\n",
    "- Asegurarse de que la aleatorización produce grupos comparables en términos de características demográficas y comportamientos de compra previos."
   ]
  },
  {
   "cell_type": "markdown",
   "metadata": {},
   "source": [
    "**4. ¿Qué enfoque usarías para determinar la duración del experimento?**"
   ]
  },
  {
   "cell_type": "markdown",
   "metadata": {},
   "source": [
    "Consideramos un periodo de tiempo suficiente como para que se cumpla un ciclo de cobro de salarios, es decir, un mes, ya que el comportamiento a principios de mes y a finales puede diferir mucho."
   ]
  },
  {
   "cell_type": "markdown",
   "metadata": {},
   "source": [
    "**5. ¿Qué KPIs/métricas elegirías para evaluar el éxito de la prueba?**"
   ]
  },
  {
   "cell_type": "markdown",
   "metadata": {},
   "source": [
    "- **Número de Pedidos**: Comparar el número de pedidos realizados en ambos grupos.\n",
    "- **Ingresos Totales**: Evaluar el impacto en los ingresos totales por pedidos.\n",
    "- **Frecuencia de Compra**: Analizar si la frecuencia de compra de los usuarios cambia con el aumento de la tarifa.\n",
    "- **Tasa de Retención de Usuarios**: Medir la tasa de retención de usuarios en ambos grupos.\n",
    "- **Satisfacción del Cliente**: Utilizar encuestas para medir cambios en la satisfacción del cliente."
   ]
  },
  {
   "cell_type": "markdown",
   "metadata": {},
   "source": [
    "**6. ¿Qué pasos tomarías para analizar los resultados de la prueba?**"
   ]
  },
  {
   "cell_type": "markdown",
   "metadata": {},
   "source": [
    "1. **Descriptivos Iniciales**:\n",
    "   - Comparar los datos descriptivos básicos (número de pedidos, ingresos, etc.) entre los grupos de control y tratamiento.\n",
    "2. **Pruebas de Significancia**:\n",
    "   - Utilizar pruebas t para comparar medias y pruebas de chi-cuadrado para proporciones.\n",
    "   - Realizar análisis de regresión para controlar por posibles covariables.\n",
    "3. **Análisis de Subgrupos**:\n",
    "   - Evaluar si hay diferencias en los efectos del aumento de tarifa en subgrupos específicos (por ejemplo, por demografía o comportamiento de compra previo)."
   ]
  },
  {
   "cell_type": "markdown",
   "metadata": {},
   "source": [
    "**7. ¿Cuáles serían tus recomendaciones según los resultados de la prueba?**"
   ]
  },
  {
   "cell_type": "markdown",
   "metadata": {},
   "source": [
    "- **Si el aumento de tarifa resulta en un incremento significativo de ingresos sin una caída notable en la cantidad de pedidos**:\n",
    "  - Implementar el aumento de tarifa de manera permanente.\n",
    "  - Considerar aplicar ajustes de tarifa en otras ciudades siguiendo el mismo proceso experimental.\n",
    "- **Si el aumento de tarifa reduce significativamente la cantidad de pedidos o ingresos totales**:\n",
    "  - Mantener la tarifa actual y explorar otras formas de aumentar ingresos, como servicios adicionales o tarifas diferenciadas según la hora del día.\n",
    "- **Si hay un impacto negativo en la satisfacción del cliente**:\n",
    "  - Evaluar la posibilidad de introducir el aumento de tarifa gradualmente o con promociones compensatorias.\n",
    "Implementar un experimento controlado aleatorio, monitorear y analizar adecuadamente los resultados, y basar las decisiones en datos empíricos proporcionará una base sólida para gestionar los cambios en la tarifa de entrega de manera efectiva y eficiente."
   ]
  }
 ],
 "metadata": {
  "kernelspec": {
   "display_name": "Python 3",
   "language": "python",
   "name": "python3"
  },
  "language_info": {
   "codemirror_mode": {
    "name": "ipython",
    "version": 3
   },
   "file_extension": ".py",
   "mimetype": "text/x-python",
   "name": "python",
   "nbconvert_exporter": "python",
   "pygments_lexer": "ipython3",
   "version": "3.12.4"
  }
 },
 "nbformat": 4,
 "nbformat_minor": 2
}
