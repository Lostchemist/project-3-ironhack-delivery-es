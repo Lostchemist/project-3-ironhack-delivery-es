{
 "cells": [
  {
   "cell_type": "markdown",
   "id": "0b3495d1",
   "metadata": {},
   "source": [
    "# Ejercicio 1"
   ]
  },
  {
   "cell_type": "markdown",
   "id": "e5a43e1d",
   "metadata": {},
   "source": [
    "## TOP 3\n",
    "Tasa de incidencias\n",
    "\n",
    "Proporción de Mensajes por Etapa de Pedido\n",
    "\n",
    "Tasa de Reorden\n",
    "\n",
    "## Others\n",
    "Tiempo de entrega promedio\n",
    "\n",
    "Tasa de entregas a tiempo\n",
    "\n",
    "Nivel de satisfacción del cliente\n",
    "\n",
    "Tasa de Mensajes Iniciados por Clientes\n",
    "\n",
    "Tasa de Incidencias (Incident Rate)\n",
    "\n",
    "Tiempo de Respuesta del Mensajero\n",
    "\n",
    "Tasa de devoluciones\n",
    "\n",
    "Frecuencia de Mensajes por Pedido\n",
    "\n",
    "Tasa de Reorden (de que el cliente vuelve a pedir)\n",
    "\n",
    "Proporción de Mensajes por Etapa de Pedido\n",
    "\n",
    "Tiempo promedio de respuesta del servicio de atención al cliente\n"
   ]
  }
 ],
 "metadata": {
  "kernelspec": {
   "display_name": "Python 3 (ipykernel)",
   "language": "python",
   "name": "python3"
  },
  "language_info": {
   "codemirror_mode": {
    "name": "ipython",
    "version": 3
   },
   "file_extension": ".py",
   "mimetype": "text/x-python",
   "name": "python",
   "nbconvert_exporter": "python",
   "pygments_lexer": "ipython3",
   "version": "3.10.12"
  }
 },
 "nbformat": 4,
 "nbformat_minor": 5
}
